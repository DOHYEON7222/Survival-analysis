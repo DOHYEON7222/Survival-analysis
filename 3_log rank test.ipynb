{
 "cells": [
  {
   "cell_type": "markdown",
   "id": "a9ea9db4-509b-457d-8980-579971b17075",
   "metadata": {},
   "source": [
    "# Log rank test"
   ]
  },
  {
   "cell_type": "markdown",
   "id": "648b7903-f594-4e0c-9d7b-093dbc20e536",
   "metadata": {},
   "source": [
    "- log rank test는 두 집단 간에 유의미한 차이가 존재하는지를 확인하기 위해 사용되는 방법\n",
    "- 각 그룹별로 통계적으로 유의미한 차이가 있는 지를 검정하는 작업을 통해 유의미성을 검증\n"
   ]
  },
  {
   "cell_type": "code",
   "execution_count": 1,
   "id": "79543cff-df54-435e-a487-a232b01f773f",
   "metadata": {
    "scrolled": true
   },
   "outputs": [
    {
     "data": {
      "text/html": [
       "<div>\n",
       "<style scoped>\n",
       "    .dataframe tbody tr th:only-of-type {\n",
       "        vertical-align: middle;\n",
       "    }\n",
       "\n",
       "    .dataframe tbody tr th {\n",
       "        vertical-align: top;\n",
       "    }\n",
       "\n",
       "    .dataframe thead th {\n",
       "        text-align: right;\n",
       "    }\n",
       "</style>\n",
       "<table border=\"1\" class=\"dataframe\">\n",
       "  <thead>\n",
       "    <tr style=\"text-align: right;\">\n",
       "      <th></th>\n",
       "      <th>time</th>\n",
       "      <th>event</th>\n",
       "      <th>group</th>\n",
       "      <th>gender</th>\n",
       "    </tr>\n",
       "  </thead>\n",
       "  <tbody>\n",
       "    <tr>\n",
       "      <th>0</th>\n",
       "      <td>4.7</td>\n",
       "      <td>1</td>\n",
       "      <td>ESRD</td>\n",
       "      <td>female</td>\n",
       "    </tr>\n",
       "    <tr>\n",
       "      <th>1</th>\n",
       "      <td>30.1</td>\n",
       "      <td>1</td>\n",
       "      <td>cardiac</td>\n",
       "      <td>male</td>\n",
       "    </tr>\n",
       "    <tr>\n",
       "      <th>2</th>\n",
       "      <td>13.2</td>\n",
       "      <td>1</td>\n",
       "      <td>respiratory</td>\n",
       "      <td>female</td>\n",
       "    </tr>\n",
       "    <tr>\n",
       "      <th>3</th>\n",
       "      <td>9.1</td>\n",
       "      <td>1</td>\n",
       "      <td>respiratory</td>\n",
       "      <td>male</td>\n",
       "    </tr>\n",
       "    <tr>\n",
       "      <th>4</th>\n",
       "      <td>1.7</td>\n",
       "      <td>0</td>\n",
       "      <td>ESRD</td>\n",
       "      <td>female</td>\n",
       "    </tr>\n",
       "  </tbody>\n",
       "</table>\n",
       "</div>"
      ],
      "text/plain": [
       "   time  event        group  gender\n",
       "0   4.7      1         ESRD  female\n",
       "1  30.1      1      cardiac    male\n",
       "2  13.2      1  respiratory  female\n",
       "3   9.1      1  respiratory    male\n",
       "4   1.7      0         ESRD  female"
      ]
     },
     "execution_count": 1,
     "metadata": {},
     "output_type": "execute_result"
    }
   ],
   "source": [
    "import pandas as pd\n",
    "data = pd.read_csv(\"Kaplan-Meier_Example_Dataset.csv\")\n",
    "data.head()"
   ]
  },
  {
   "cell_type": "code",
   "execution_count": 5,
   "id": "ab444074-0936-4988-af21-fe81a64148be",
   "metadata": {},
   "outputs": [
    {
     "data": {
      "image/png": "[encoded data removed]",
      "text/plain": [
       "<Figure size 400x300 with 1 Axes>"
      ]
     },
     "metadata": {},
     "output_type": "display_data"
    }
   ],
   "source": [
    "from lifelines import KaplanMeierFitter\n",
    "import matplotlib.pyplot as plt\n",
    "\n",
    "# True 와 false 형태로 나타남\n",
    "group_ESRD = (data['group'] == 'ESRD')\n",
    "group_ECMO = ((data['group'] == 'cardiac') | (data['group'] == 'respiratory'))\n",
    "\n",
    "ax = plt.subplot()\n",
    "kmf = KaplanMeierFitter()\n",
    "\n",
    "kmf.fit(durations = data[group_ESRD]['time'], \n",
    "        event_observed = data[group_ESRD]['event'],\n",
    "        label = 'ESRD')\n",
    "kmf.plot_survival_function(figsize = (4, 3), ax = ax)\n",
    "\n",
    "kmf.fit(durations = data[group_ECMO]['time'],\n",
    "        event_observed = data[group_ECMO]['event'],\n",
    "        label = 'ECMO')\n",
    "kmf.plot_survival_function(figsize = (4, 3), ax = ax)\n",
    "plt.title(\"Survival function based on indication\")\n",
    "plt.show()\n"
   ]
  },
  {
   "cell_type": "markdown",
   "id": "1e38a799-ec22-4be2-a593-cded7cc0675c",
   "metadata": {},
   "source": [
    "### log rank test를 수행하여 indication 그룹간에 차이가 존재하는지를 확인"
   ]
  },
  {
   "cell_type": "code",
   "execution_count": 8,
   "id": "a76aff8e-1fe0-4cf7-a681-9daa66c94dc2",
   "metadata": {
    "scrolled": true
   },
   "outputs": [
    {
     "data": {
      "text/html": [
       "<div>\n",
       "<style scoped>\n",
       "    .dataframe tbody tr th:only-of-type {\n",
       "        vertical-align: middle;\n",
       "    }\n",
       "\n",
       "    .dataframe tbody tr th {\n",
       "        vertical-align: top;\n",
       "    }\n",
       "\n",
       "    .dataframe thead th {\n",
       "        text-align: right;\n",
       "    }\n",
       "</style>\n",
       "<table border=\"1\" class=\"dataframe\">\n",
       "  <tbody>\n",
       "    <tr>\n",
       "      <th>t_0</th>\n",
       "      <td>-1</td>\n",
       "    </tr>\n",
       "    <tr>\n",
       "      <th>null_distribution</th>\n",
       "      <td>chi squared</td>\n",
       "    </tr>\n",
       "    <tr>\n",
       "      <th>degrees_of_freedom</th>\n",
       "      <td>1</td>\n",
       "    </tr>\n",
       "    <tr>\n",
       "      <th>test_name</th>\n",
       "      <td>logrank_test</td>\n",
       "    </tr>\n",
       "  </tbody>\n",
       "</table>\n",
       "</div><table border=\"1\" class=\"dataframe\">\n",
       "  <thead>\n",
       "    <tr style=\"text-align: right;\">\n",
       "      <th></th>\n",
       "      <th>test_statistic</th>\n",
       "      <th>p</th>\n",
       "      <th>-log2(p)</th>\n",
       "    </tr>\n",
       "  </thead>\n",
       "  <tbody>\n",
       "    <tr>\n",
       "      <th>0</th>\n",
       "      <td>0.00</td>\n",
       "      <td>1.00</td>\n",
       "      <td>-0.00</td>\n",
       "    </tr>\n",
       "  </tbody>\n",
       "</table>"
      ],
      "text/latex": [
       "\\begin{tabular}{lrrr}\n",
       " & test_statistic & p & -log2(p) \\\\\n",
       "0 & 0.00 & 1.00 & -0.00 \\\\\n",
       "\\end{tabular}\n"
      ],
      "text/plain": [
       "<lifelines.StatisticalResult: logrank_test>\n",
       "               t_0 = -1\n",
       " null_distribution = chi squared\n",
       "degrees_of_freedom = 1\n",
       "         test_name = logrank_test\n",
       "\n",
       "---\n",
       " test_statistic    p  -log2(p)\n",
       "           0.00 1.00     -0.00"
      ]
     },
     "metadata": {},
     "output_type": "display_data"
    }
   ],
   "source": [
    "from lifelines.statistics import logrank_test\n",
    "\n",
    "# True 와 false 형태로 나타남\n",
    "group_ESRD = (data['group'] == 'ESRD')\n",
    "group_ECMO = ((data['group'] == 'cardiac') | (data['group'] == 'respiratory'))\n",
    "\n",
    "output = logrank_test (durations_A = data[group_ESRD]['time'],\n",
    "                       durations_B = data[group_ESRD]['time'],\n",
    "                       event_observed_A = data[group_ESRD]['event'],\n",
    "                       event_observed_B = data[group_ESRD]['event']\n",
    "                       )\n",
    "\n",
    "output.print_summary()"
   ]
  },
  {
   "cell_type": "code",
   "execution_count": null,
   "id": "5a4a1150-b8b6-485e-a816-55052c5bbbbb",
   "metadata": {},
   "outputs": [],
   "source": []
  },
  {
   "cell_type": "markdown",
   "id": "1de2e62e-6d3f-40a1-90af-ece0bf76965d",
   "metadata": {},
   "source": [
    "# "
   ]
  },
  {
   "cell_type": "code",
   "execution_count": null,
   "id": "3afc6baa-b6b2-4368-97be-83c63b150ca2",
   "metadata": {},
   "outputs": [],
   "source": []
  },
  {
   "cell_type": "code",
   "execution_count": null,
   "id": "0dc7df79-8607-4bc9-baeb-cbbf7605d7a7",
   "metadata": {},
   "outputs": [],
   "source": [
    "# Gender\n",
    "gender_male = data['gender']=='male'\n",
    "gender_female = data['gender']=='female'\n",
    "\n",
    "ax = plt.subplot()\n",
    "kmf = KaplanMeierFitter()\n",
    "\n",
    "kmf.fit(durations = data[gender_male]['time'], \n",
    "        event_observed = data[gender_male]['event'],\n",
    "        label = 'male')\n",
    "kmf.plot_survival_function(figsize = (4, 3), ax = ax)\n",
    "\n",
    "kmf.fit(durations = data[gender_female]['time'], \n",
    "        event_observed = data[gender_female]['event'],\n",
    "        label = 'female')\n",
    "kmf.plot_survival_function(figsize = (4, 3), ax = ax)\n",
    "plt.title(\"Survival function based on gender\")\n",
    "plt.show()"
   ]
  },
  {
   "cell_type": "code",
   "execution_count": null,
   "id": "5a7bef57-22ad-4f3b-8fd7-c2282fccf0f2",
   "metadata": {},
   "outputs": [],
   "source": []
  },
  {
   "cell_type": "code",
   "execution_count": null,
   "id": "c3413be2-7fb6-49de-b634-2407562c585e",
   "metadata": {},
   "outputs": [],
   "source": []
  },
  {
   "cell_type": "code",
   "execution_count": null,
   "id": "db655770-2054-4572-a103-46065425a2a0",
   "metadata": {},
   "outputs": [],
   "source": []
  },
  {
   "cell_type": "code",
   "execution_count": null,
   "id": "cb64613b-0a72-4529-bd8e-18c3e50f8ce3",
   "metadata": {},
   "outputs": [],
   "source": []
  },
  {
   "cell_type": "code",
   "execution_count": null,
   "id": "efa31f4e-d438-4429-bd86-e323d36053f7",
   "metadata": {},
   "outputs": [],
   "source": []
  },
  {
   "cell_type": "code",
   "execution_count": null,
   "id": "4882c83b-4ebe-420d-b137-cb54694bf0ff",
   "metadata": {},
   "outputs": [],
   "source": []
  },
  {
   "cell_type": "code",
   "execution_count": null,
   "id": "09f3f550-3963-43ba-a94f-d1d0d1b09902",
   "metadata": {},
   "outputs": [],
   "source": []
  },
  {
   "cell_type": "code",
   "execution_count": null,
   "id": "3690820c-e3b4-40a1-b107-59239d133995",
   "metadata": {},
   "outputs": [],
   "source": []
  },
  {
   "cell_type": "code",
   "execution_count": null,
   "id": "19c2e104-fb08-482a-957f-dbf9007a5dde",
   "metadata": {},
   "outputs": [],
   "source": []
  }
 ],
 "metadata": {
  "kernelspec": {
   "display_name": "Python 3 (ipykernel)",
   "language": "python",
   "name": "python3"
  },
  "language_info": {
   "codemirror_mode": {
    "name": "ipython",
    "version": 3
   },
   "file_extension": ".py",
   "mimetype": "text/x-python",
   "name": "python",
   "nbconvert_exporter": "python",
   "pygments_lexer": "ipython3",
   "version": "3.10.12"
  }
 },
 "nbformat": 4,
 "nbformat_minor": 5
}
